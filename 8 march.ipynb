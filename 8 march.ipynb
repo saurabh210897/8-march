{
 "cells": [
  {
   "cell_type": "code",
   "execution_count": 1,
   "id": "bb3b1b3c-e4fd-4887-b122-abd46aa19cbf",
   "metadata": {},
   "outputs": [],
   "source": [
    "# Q1. What is the Probability density function?\n",
    "\n",
    "# Q2. What are the types of Probability distribution?\n",
    "\n",
    "# Q3. Write a Python function to calculate the probability density function of a normal distribution with \n",
    "# given mean and standard deviation at a given point.\n",
    "\n",
    "# Q4. What are the properties of Binomial distribution? Give two examples of events where binomial \n",
    "# distribution can be applied.\n",
    "\n",
    "# Q5. Generate a random sample of size 1000 from a binomial distribution with probability of success 0.4 \n",
    "# and plot a histogram of the results using matplotlib.\n",
    "\n",
    "# Q6. Write a Python function to calculate the cumulative distribution function of a Poisson distribution \n",
    "# with given mean at a given point.\n",
    "\n",
    "# Q7. How Binomial distribution different from Poisson distribution?\n",
    "\n",
    "# Q8. Generate a random sample of size 1000 from a Poisson distribution with mean 5 and calculate the \n",
    "# sample mean and variance.\n",
    "\n",
    "# Q9. How mean and variance are related in Binomial distribution and Poisson distribution?\n",
    "\n",
    "# Q10. In normal distribution with respect to mean position, where does the least frequent data appear?"
   ]
  },
  {
   "cell_type": "code",
   "execution_count": 2,
   "id": "d70eb917-d989-471b-9b94-55d2a8d93ff0",
   "metadata": {},
   "outputs": [],
   "source": [
    "# The probability density function (PDF) is a mathematical function used to describe the probability distribution of a random variable. \n",
    "# Specifically, the PDF describes the relative likelihood of a random variable taking on a particular value or range of values.\n",
    "\n",
    "# The PDF is often denoted by the symbol f(x), where x is the random variable. For continuous random variables, the PDF describes the probability density at each possible value of \n",
    "# the random variable. The total area under the PDF curve is equal to 1, which represents the total probability of all possible outcomes.\n",
    "\n",
    "# The PDF is an essential concept in probability theory and statistics, and it is widely used in various fields such as physics, engineering, finance, and biology, among others. \n",
    "# It allows us to calculate probabilities and perform statistical analysis on data sets, making it a powerful tool for understanding and modeling complex systems."
   ]
  },
  {
   "cell_type": "code",
   "execution_count": 3,
   "id": "4f698061-6ac3-4c7f-aa2c-f618ce02d88d",
   "metadata": {},
   "outputs": [],
   "source": [
    "# Q2. What are the types of Probability distribution?"
   ]
  },
  {
   "cell_type": "code",
   "execution_count": 4,
   "id": "35b8cce0-a670-4b80-9893-1403b4f447b4",
   "metadata": {},
   "outputs": [],
   "source": [
    "# There are two main types of probability distributions: discrete probability distributions and continuous probability distributions.\n",
    "\n",
    "# Discrete probability distributions: A discrete probability distribution is a distribution of probabilities for a discrete random variable. \n",
    "# A discrete random variable takes on a finite or countably infinite set of possible values. \n",
    "# Examples of discrete probability distributions include the binomial distribution, Poisson distribution, and geometric distribution.\n",
    "\n",
    "# Continuous probability distributions: A continuous probability distribution is a distribution of probabilities for a continuous random variable. \n",
    "# A continuous random variable can take on any value within a range, and its probability density function (PDF) is a continuous function. \n",
    "# Examples of continuous probability distributions include the normal distribution, exponential distribution, and beta distribution.\n",
    "\n",
    "# Each type of distribution has its own characteristics, parameters, and applications, and they are used extensively in various fields of study, including mathematics, statistics, \n",
    "# physics, engineering, economics, and many others. Understanding the properties of these distributions is crucial for performing statistical analysis and modeling real-world phenomena."
   ]
  },
  {
   "cell_type": "code",
   "execution_count": 5,
   "id": "3e9d7011-50e5-4575-96aa-c39c5fd09d03",
   "metadata": {},
   "outputs": [],
   "source": [
    "# Q3. Write a Python function to calculate the probability density function of a normal distribution with \n",
    "# given mean and standard deviation at a given point."
   ]
  },
  {
   "cell_type": "code",
   "execution_count": 6,
   "id": "adbe4a4c-fe71-46df-a31d-08ebf430673a",
   "metadata": {},
   "outputs": [],
   "source": [
    "import math\n",
    "\n",
    "def normal_pdf(x, mean, std_dev):\n",
    "    \"\"\"\n",
    "    Calculates the probability density function (PDF) of a normal distribution at a given point.\n",
    "    :param x: the point to calculate the PDF at\n",
    "    :param mean: the mean of the normal distribution\n",
    "    :param std_dev: the standard deviation of the normal distribution\n",
    "    :return: the PDF at the given point\n",
    "    \"\"\"\n",
    "    coefficient = 1 / (std_dev * math.sqrt(2 * math.pi))\n",
    "    exponent = -((x - mean) ** 2) / (2 * (std_dev ** 2))\n",
    "    pdf = coefficient * math.exp(exponent)\n",
    "    return pdf\n"
   ]
  },
  {
   "cell_type": "code",
   "execution_count": 7,
   "id": "81972cb0-dce8-456d-9984-d0a28d2fe189",
   "metadata": {},
   "outputs": [],
   "source": [
    "# Q4. What are the properties of Binomial distribution? Give two examples of events where binomial \n",
    "# distribution can be applied."
   ]
  },
  {
   "cell_type": "code",
   "execution_count": 8,
   "id": "3e027702-64d2-4e76-a54e-5e7a31e0099f",
   "metadata": {},
   "outputs": [],
   "source": [
    "# The binomial distribution is a probability distribution that describes the number of successes in a fixed number of independent trials,\n",
    "# where each trial has only two possible outcomes: success or failure. Some of the main properties of the binomial distribution include:\n",
    "\n",
    "# The number of trials is fixed: The binomial distribution applies to situations where a fixed number of independent trials are performed, \n",
    "# with the same probability of success on each trial.\n",
    "\n",
    "# The trials are independent: The outcome of each trial does not depend on the outcome of any other trial.\n",
    "\n",
    "# There are only two possible outcomes: The outcome of each trial is either a success or a failure.\n",
    "\n",
    "# The probability of success is constant: The probability of success is the same on each trial.\n",
    "\n",
    "# The distribution is discrete: The binomial distribution is a discrete distribution, which means that it applies to situations where the number of possible outcomes is finite or countable.\n",
    "\n",
    "\n",
    "# Examples of events where the binomial distribution can be applied include:\n",
    "\n",
    "# Tossing a coin: When we toss a coin, we can define success as getting heads and failure as getting tails. \n",
    "# Each toss is an independent trial with a fixed probability of success (0.5 for a fair coin).\n",
    "\n",
    "# Manufacturing quality control: In a manufacturing process, we may define success as producing a defect-free product, and failure as producing a defective product. \n",
    "# Each product produced can be considered an independent trial with a fixed probability of success (the probability of producing a defect-free product). \n",
    "# The binomial distribution can then be used to calculate the probability of producing a certain number of defect-free products in a given number of trials \n",
    "# (i.e., the number of products produced)."
   ]
  },
  {
   "cell_type": "code",
   "execution_count": 9,
   "id": "62b0c8d3-4871-4ddd-a60c-145f8977123b",
   "metadata": {},
   "outputs": [],
   "source": [
    "# Q5. Generate a random sample of size 1000 from a binomial distribution with probability of success 0.4 \n",
    "# and plot a histogram of the results using matplotlib."
   ]
  },
  {
   "cell_type": "code",
   "execution_count": 24,
   "id": "a3eff5e2-f7dd-4f94-8965-7269d26b373d",
   "metadata": {},
   "outputs": [
    {
     "data": {
      "image/png": "[encoded data removed]",
      "text/plain": [
       "<Figure size 640x480 with 1 Axes>"
      ]
     },
     "metadata": {},
     "output_type": "display_data"
    }
   ],
   "source": [
    "import numpy as np\n",
    "import matplotlib.pyplot as plt\n",
    "\n",
    "# Set the probability of success and number of trials\n",
    "p = 0.4\n",
    "n = 1000\n",
    "\n",
    "# Generate the random sample\n",
    "sample = np.random.binomial(n, p, size=1000)\n",
    "\n",
    "# Plot a histogram of the results\n",
    "plt.hist(sample, bins=20, density=True, alpha=0.75)\n",
    "plt.xlabel('Number of Successes')\n",
    "plt.ylabel('Probability Density')\n",
    "plt.title('Binomial Distribution with p=0.4 and n=1000')\n",
    "plt.show()"
   ]
  },
  {
   "cell_type": "code",
   "execution_count": 17,
   "id": "33a7afb7-3a15-4c65-9d6d-a840e96cf4fc",
   "metadata": {},
   "outputs": [],
   "source": [
    "# Q6. Write a Python function to calculate the cumulative distribution function of a Poisson distribution \n",
    "# with given mean at a given point."
   ]
  },
  {
   "cell_type": "code",
   "execution_count": 18,
   "id": "1a173c6b-8ada-46ed-abb6-5f7d33b1e285",
   "metadata": {},
   "outputs": [],
   "source": [
    "import math\n",
    "\n",
    "def poisson_cdf(mu, k):\n",
    "    \"\"\"Calculates the cumulative distribution function (CDF) of a Poisson distribution with mean `mu` at a given point `k`.\"\"\"\n",
    "    cdf = 0.0\n",
    "    for i in range(k + 1):\n",
    "        cdf += math.exp(-mu) * (mu ** i) / math.factorial(i)\n",
    "    return cdf"
   ]
  },
  {
   "cell_type": "code",
   "execution_count": 22,
   "id": "862ea344-f77a-4e1c-9e20-35f139e60a97",
   "metadata": {},
   "outputs": [
    {
     "name": "stdout",
     "output_type": "stream",
     "text": [
      "9.160820579686966 %\n"
     ]
    }
   ],
   "source": [
    "per = poisson_cdf(3, 5)\n",
    "print(f'{per * 10} %')"
   ]
  },
  {
   "cell_type": "code",
   "execution_count": 25,
   "id": "f7f4a548-6ed7-4046-92b3-549d3b0cb3cd",
   "metadata": {},
   "outputs": [],
   "source": [
    "# Q7. How Binomial distribution different from Poisson distribution?"
   ]
  },
  {
   "cell_type": "code",
   "execution_count": 26,
   "id": "3769aae2-77aa-4e86-96c8-e8d83eed97c2",
   "metadata": {},
   "outputs": [],
   "source": [
    "# The main difference between the binomial and Poisson distributions is the way that the events are counted or measured.\n",
    "\n",
    "# The binomial distribution is used to model the number of successes in a fixed number of independent trials, \n",
    "# where each trial has a binary outcome (success or failure) and the probability of success is constant across all trials. \n",
    "# In other words, the binomial distribution counts the number of successes in a fixed number of trials with a known probability of success.\n",
    "\n",
    "# On the other hand, the Poisson distribution is used to model the number of events in a fixed interval of time or space, \n",
    "# where the events occur randomly and independently at a constant rate (i.e., the mean number of events per unit time or space is known). \n",
    "# In other words, the Poisson distribution counts the number of events that occur randomly over a fixed time or space interval.\n",
    "\n",
    "# Another difference between the binomial and Poisson distributions is that the binomial distribution has a finite range of values (from 0 to the number of trials), \n",
    "# whereas the Poisson distribution has an infinite range of values (from 0 to infinity). Additionally, the binomial distribution is discrete, \n",
    "# while the Poisson distribution can be approximated as continuous for large values of the mean.\n",
    "\n",
    "# To summarize, the binomial distribution is used to count the number of successes in a fixed number of trials with a known probability of success, \n",
    "# while the Poisson distribution is used to count the number of events that occur randomly over a fixed time or space interval with a known average rate."
   ]
  },
  {
   "cell_type": "code",
   "execution_count": 27,
   "id": "a865db6c-6f9d-49ed-9c4b-103e667544c6",
   "metadata": {},
   "outputs": [],
   "source": [
    "# Q8. Generate a random sample of size 1000 from a Poisson distribution with mean 5 and calculate the \n",
    "# sample mean and variance"
   ]
  },
  {
   "cell_type": "code",
   "execution_count": 28,
   "id": "0bf97643-9cf2-47f7-91d3-abc736d5d8fe",
   "metadata": {},
   "outputs": [
    {
     "name": "stdout",
     "output_type": "stream",
     "text": [
      "Sample mean: 4.985\n",
      "Sample variance: 4.9727749999999995\n"
     ]
    }
   ],
   "source": [
    "import numpy as np\n",
    "\n",
    "# Generate random sample from Poisson distribution\n",
    "sample = np.random.poisson(lam=5, size=1000)\n",
    "\n",
    "# Calculate sample mean and variance\n",
    "sample_mean = np.mean(sample)\n",
    "sample_var = np.var(sample)\n",
    "\n",
    "print(\"Sample mean:\", sample_mean)\n",
    "print(\"Sample variance:\", sample_var)\n"
   ]
  },
  {
   "cell_type": "code",
   "execution_count": 29,
   "id": "bcede048-6908-42b5-8436-40b540f7c7af",
   "metadata": {},
   "outputs": [],
   "source": [
    "# Q9. How mean and variance are related in Binomial distribution and Poisson distribution?"
   ]
  },
  {
   "cell_type": "code",
   "execution_count": 30,
   "id": "58baa442-51af-456e-b370-c2a929b74975",
   "metadata": {},
   "outputs": [],
   "source": [
    "# In a binomial distribution, the mean (expected value) is equal to the product of the number of trials n and the probability of success p, \n",
    "# i.e., mean = n * p. The variance is equal to n * p * (1 - p).\n",
    "\n",
    "# In a Poisson distribution, the mean (expected value) and variance are both equal to the parameter of the distribution, denoted as lambda (λ).\n",
    "\n",
    "# The relationship between mean and variance is different for the two distributions. In the binomial distribution, \n",
    "# the variance is dependent on the probability of success and the number of trials, and as a result, \n",
    "# the variance can be larger or smaller than the mean depending on the values of n and p. In contrast, \n",
    "# the Poisson distribution has the property that the variance is equal to the mean.\n",
    "\n",
    "# In other words, for a Poisson distribution with mean λ, the variance is also λ. This is because the Poisson distribution is a limiting case of the binomial distribution, \n",
    "# where the number of trials becomes very large and the probability of success becomes very small, while keeping the product of n * p equal to λ. As a result, \n",
    "# the binomial distribution approaches a Poisson distribution in this limit, and the relationship between mean and variance becomes equal.\n",
    "\n",
    "# In summary, in a binomial distribution, the variance can be larger or smaller than the mean, while in a Poisson distribution, the variance is always equal to the mean."
   ]
  },
  {
   "cell_type": "code",
   "execution_count": 31,
   "id": "7b8aa837-d199-48a4-8961-815dcaf34824",
   "metadata": {},
   "outputs": [],
   "source": [
    "# Q10. In normal distribution with respect to mean position, where does the least frequent data appear?"
   ]
  },
  {
   "cell_type": "code",
   "execution_count": null,
   "id": "95b3ee3a-2657-4685-a5af-99f1acbfe72b",
   "metadata": {},
   "outputs": [],
   "source": []
  }
 ],
 "metadata": {
  "kernelspec": {
   "display_name": "Python 3 (ipykernel)",
   "language": "python",
   "name": "python3"
  },
  "language_info": {
   "codemirror_mode": {
    "name": "ipython",
    "version": 3
   },
   "file_extension": ".py",
   "mimetype": "text/x-python",
   "name": "python",
   "nbconvert_exporter": "python",
   "pygments_lexer": "ipython3",
   "version": "3.10.8"
  }
 },
 "nbformat": 4,
 "nbformat_minor": 5
}
